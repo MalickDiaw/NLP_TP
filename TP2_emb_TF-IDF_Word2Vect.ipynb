{
 "cells": [
  {
   "cell_type": "markdown",
   "id": "1093d0ad",
   "metadata": {},
   "source": [
    "# NLP TP2 \n",
    "## Word Embedding, TFIDF, Word2Vect"
   ]
  },
  {
   "cell_type": "code",
   "execution_count": null,
   "id": "03a4823c",
   "metadata": {},
   "outputs": [],
   "source": [
    "import tensorflow as tf"
   ]
  },
  {
   "cell_type": "markdown",
   "id": "f3cb8675",
   "metadata": {},
   "source": [
    "### one hot"
   ]
  },
  {
   "cell_type": "code",
   "execution_count": null,
   "id": "45b84b7a",
   "metadata": {},
   "outputs": [],
   "source": [
    "tf.compat.v1.disable_eager_execution()\n",
    "\n",
    "indices = [1, 4, 2, 0, 3]\n",
    "C = tf.constant(5, name = \"C\")\n",
    "      \n",
    "one_hot_matrix = tf.one_hot(\n",
    "    indices, C, on_value = 1.0, off_value = 0.0, axis =-1)\n",
    "  \n",
    "sess = tf.compat.v1.Session()\n",
    "  \n",
    "one_hot = sess.run(one_hot_matrix)\n",
    "  \n",
    "sess.close()\n",
    "  \n",
    "# output is of dimension 5 x 5\n",
    "print(one_hot)"
   ]
  },
  {
   "cell_type": "markdown",
   "id": "6b650589",
   "metadata": {},
   "source": [
    "### bag of words"
   ]
  },
  {
   "cell_type": "code",
   "execution_count": null,
   "id": "806d84c4",
   "metadata": {},
   "outputs": [],
   "source": [
    "import nltk\n",
    "from nltk.tokenize import sent_tokenize, word_tokenize\n",
    "nltk.download('punkt')\n",
    "\n",
    "import numpy as np  \n",
    "import random  \n",
    "import string\n",
    "\n",
    "import bs4 as bs  \n",
    "import urllib.request  \n",
    "import re  "
   ]
  },
  {
   "cell_type": "code",
   "execution_count": null,
   "id": "2efbe93e",
   "metadata": {},
   "outputs": [],
   "source": [
    "text = [\"Technical development has several advantages. It simplifies the daily life of men.\",\n",
    "        \"The main objecAve of the principle of the vast majority of technological advancement is to reduce human effort.\",\n",
    "        \"The other advantage of technical development is to promote communication and mobility.\",\n",
    "        \"Thanks to the emergence of ever more efficient communicaAon systems.\"\n",
    "       ]\n",
    "\n",
    "print(text)"
   ]
  },
  {
   "cell_type": "code",
   "execution_count": null,
   "id": "36c43cb1",
   "metadata": {},
   "outputs": [],
   "source": [
    "corpus = nltk.sent_tokenize(text)\n",
    "corpus"
   ]
  },
  {
   "cell_type": "code",
   "execution_count": null,
   "id": "2810fae9",
   "metadata": {},
   "outputs": [],
   "source": [
    "for i in range(len(corpus )):\n",
    "    corpus[i] = corpus[i].lower()\n",
    "    corpus[i] = re.sub(r'\\W',' ',corpus[i])\n",
    "    corpus[i] = re.sub(r'\\s+',' ',corpus[i])"
   ]
  },
  {
   "cell_type": "code",
   "execution_count": null,
   "id": "975dfca9",
   "metadata": {},
   "outputs": [],
   "source": [
    "print(len(corpus))"
   ]
  },
  {
   "cell_type": "code",
   "execution_count": null,
   "id": "119bec89",
   "metadata": {},
   "outputs": [],
   "source": [
    "print(corpus[20])"
   ]
  },
  {
   "cell_type": "markdown",
   "id": "78e2ba5f",
   "metadata": {},
   "source": [
    "#### word frequence"
   ]
  },
  {
   "cell_type": "code",
   "execution_count": null,
   "id": "26ebffa6",
   "metadata": {},
   "outputs": [],
   "source": [
    "wordfreq = {}\n",
    "for sentence in corpus:\n",
    "    tokens = nltk.word_tokenize(sentence)\n",
    "    for token in tokens:\n",
    "        if token not in wordfreq.keys():\n",
    "            wordfreq[token] = 1\n",
    "        else:\n",
    "            wordfreq[token] += 1"
   ]
  },
  {
   "cell_type": "code",
   "execution_count": null,
   "id": "d308b8c5",
   "metadata": {},
   "outputs": [],
   "source": [
    "len(wordfreq)"
   ]
  },
  {
   "cell_type": "code",
   "execution_count": null,
   "id": "66bba14d",
   "metadata": {},
   "outputs": [],
   "source": [
    "import heapq\n",
    "most_freq = heapq.nlargest(200, wordfreq, key=wordfreq.get)"
   ]
  },
  {
   "cell_type": "code",
   "execution_count": null,
   "id": "b167757c",
   "metadata": {},
   "outputs": [],
   "source": [
    "sentence_vectors = []\n",
    "for sentence in corpus:\n",
    "    sentence_tokens = nltk.word_tokenize(sentence)\n",
    "    sent_vec = []\n",
    "    for token in most_freq:\n",
    "        if token in sentence_tokens:\n",
    "            sent_vec.append(1)\n",
    "        else:\n",
    "            sent_vec.append(0)\n",
    "    sentence_vectors.append(sent_vec)"
   ]
  },
  {
   "cell_type": "code",
   "execution_count": null,
   "id": "8831303b",
   "metadata": {},
   "outputs": [],
   "source": [
    "sentence_vectors"
   ]
  },
  {
   "cell_type": "markdown",
   "id": "32906a70",
   "metadata": {},
   "source": [
    "## TF-IDF"
   ]
  },
  {
   "cell_type": "code",
   "execution_count": null,
   "id": "fc67262f",
   "metadata": {},
   "outputs": [],
   "source": [
    "from sklearn.feature_extraction.text import TfidfVectorizer\n",
    "vectorizer = TfidfVectorizer()"
   ]
  },
  {
   "cell_type": "code",
   "execution_count": null,
   "id": "a6c6b9e6",
   "metadata": {},
   "outputs": [],
   "source": [
    "Document1= \"It is going to rain today.\"\n",
    "Document2= \"Today I am not going outside.\"\n",
    "Document3= \"I am going to watch the season premiere.\"\n",
    "Doc = [Document1, Document2, Document3]\n",
    "\n",
    "print(Doc)"
   ]
  },
  {
   "cell_type": "code",
   "execution_count": null,
   "id": "4d09ea75",
   "metadata": {},
   "outputs": [],
   "source": [
    "X = vectorizer.fit_transform(Doc)\n",
    "print(vectorizer.get_feature_names())"
   ]
  },
  {
   "cell_type": "code",
   "execution_count": null,
   "id": "4fbe03be",
   "metadata": {},
   "outputs": [],
   "source": [
    "analyze = vectorizer.build_analyzer()\n",
    "print('Document 1',analyze(Document1))\n",
    "print('Document 2',analyze(Document2))\n",
    "print('Document 3',analyze(Document3))\n"
   ]
  },
  {
   "cell_type": "code",
   "execution_count": null,
   "id": "1e07cdf1",
   "metadata": {},
   "outputs": [],
   "source": [
    "import pandas as pd\n",
    "pd.DataFrame.sparse.from_spmatrix(X)"
   ]
  },
  {
   "cell_type": "markdown",
   "id": "3ddab9fc",
   "metadata": {},
   "source": [
    "## WORD2VEC"
   ]
  },
  {
   "cell_type": "code",
   "execution_count": null,
   "id": "0ecf20b1",
   "metadata": {},
   "outputs": [],
   "source": [
    "\n",
    "!pip install gensim"
   ]
  },
  {
   "cell_type": "code",
   "execution_count": null,
   "id": "c863655e",
   "metadata": {},
   "outputs": [],
   "source": [
    "from nltk.tokenize import sent_tokenize, word_tokenize\n",
    "import warnings\n",
    "  \n",
    "warnings.filterwarnings(action = 'ignore')\n",
    "  \n",
    "import gensim\n",
    "from gensim.models import Word2Vec\n",
    "  \n",
    "text_W2V = [\"Technical development has several advantages. It simplifies the daily life of men.\",\n",
    "        \"The main objecAve of the principle of the vast majority of technological advancement is to reduce human effort.\",\n",
    "        \"The other advantage of technical development is to promote communication and mobility.\",\n",
    "        \"Thanks to the emergence of ever more efficient communicaAon systems.\"\n",
    "       ]\n",
    "#  Reads ‘alice.txt’ file\n",
    "sample = open(\"alice.txt\", \"r\")\n",
    "s = sample.read()\n",
    "  \n",
    "# Replaces escape character with space\n",
    "f = s.replace(\"\\n\", \" \")\n",
    "  \n",
    "data = []\n",
    "  \n",
    "# iterate through each sentence in the file\n",
    "for i in sent_tokenize(text_W2V):\n",
    "    temp = []\n",
    "      \n",
    "    # tokenize the sentence into words\n",
    "    for j in word_tokenize(i):\n",
    "        temp.append(j.lower())\n",
    "  \n",
    "    data.append(temp)\n",
    "  \n",
    "# Create CBOW model\n",
    "model = gensim.models.Word2Vec(data, min_count = 1, \n",
    "                              size = 100, window = 5)\n",
    "  \n",
    "# Print results\n",
    "print(\"Similarity between 'Technical' and 'technological': \", model.similarity('Technical', 'technological'))\n"
   ]
  },
  {
   "cell_type": "code",
   "execution_count": null,
   "id": "68cf5c0b",
   "metadata": {},
   "outputs": [],
   "source": []
  }
 ],
 "metadata": {
  "kernelspec": {
   "display_name": "Python 3 (ipykernel)",
   "language": "python",
   "name": "python3"
  },
  "language_info": {
   "codemirror_mode": {
    "name": "ipython",
    "version": 3
   },
   "file_extension": ".py",
   "mimetype": "text/x-python",
   "name": "python",
   "nbconvert_exporter": "python",
   "pygments_lexer": "ipython3",
   "version": "3.8.2"
  }
 },
 "nbformat": 4,
 "nbformat_minor": 5
}
